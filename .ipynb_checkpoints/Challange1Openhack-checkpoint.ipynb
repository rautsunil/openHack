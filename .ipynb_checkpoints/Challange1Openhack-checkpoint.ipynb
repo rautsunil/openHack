{
 "cells": [
  {
   "cell_type": "code",
   "execution_count": 1,
   "metadata": {},
   "outputs": [],
   "source": [
    "from azure.cognitiveservices.vision.customvision.training import training_api\n",
    "from azure.cognitiveservices.vision.customvision.training.models import ImageUrlCreateEntry"
   ]
  },
  {
   "cell_type": "code",
   "execution_count": 2,
   "metadata": {},
   "outputs": [],
   "source": [
    "# Replace with a valid key\n",
    "training_key = \"1c1dda7a146d4b9c8d6480f0c6e9cde4\"\n",
    "prediction_key = \"e9b5ed3daca9415693f31e8ec970248f\""
   ]
  },
  {
   "cell_type": "code",
   "execution_count": 4,
   "metadata": {},
   "outputs": [
    {
     "name": "stdout",
     "output_type": "stream",
     "text": [
      "Creating project...\n"
     ]
    }
   ],
   "source": [
    "# Create a new project\n",
    "trainer = training_api.TrainingApi(training_key)\n",
    "print (\"Creating project...\")\n",
    "project = trainer.create_project(\"ChalOpenHack1\")"
   ]
  },
  {
   "cell_type": "code",
   "execution_count": 5,
   "metadata": {},
   "outputs": [],
   "source": [
    "# Make two tags in the new project\n",
    "hardcell_tag = trainer.create_tag(project.id, \"HardCell\")\n",
    "insulated_tag = trainer.create_tag(project.id, \"Insulated\")"
   ]
  },
  {
   "cell_type": "code",
   "execution_count": null,
   "metadata": {},
   "outputs": [],
   "source": [
    "import os\n",
    "hardcell_dir = \"/Users/srauz/openhack/gear_images/hardshell_jackets\"\n",
    "for image in os.listdir(os.fsencode(\"/Users/srauz/openhack/gear_images/hardshell_jackets\")):\n",
    "    with open(hardcell_dir + \"/\" + os.fsdecode(image), mode=\"rb\") as img_data:\n",
    "        trainer.create_images_from_data(project.id, img_data.read(), [ hardcell_tag.id ])\n",
    "\n",
    "\n",
    "insulated_dir = \"/Users/srauz/openhack/gear_images/insulated_jackets\"\n",
    "for image in os.listdir(os.fsencode(\"/Users/srauz/openhack/gear_images/insulated_jackets\")):\n",
    "    with open(insulated_dir + \"/\" + os.fsdecode(image), mode=\"rb\") as img_data:\n",
    "        trainer.create_images_from_data(project.id, img_data.read(), [ insulated_tag.id ])\n",
    "        \n",
    "\n",
    "\n"
   ]
  },
  {
   "cell_type": "code",
   "execution_count": null,
   "metadata": {},
   "outputs": [],
   "source": []
  }
 ],
 "metadata": {
  "kernelspec": {
   "display_name": "Python 3",
   "language": "python",
   "name": "python3"
  },
  "language_info": {
   "codemirror_mode": {
    "name": "ipython",
    "version": 3
   },
   "file_extension": ".py",
   "mimetype": "text/x-python",
   "name": "python",
   "nbconvert_exporter": "python",
   "pygments_lexer": "ipython3",
   "version": "3.6.4"
  }
 },
 "nbformat": 4,
 "nbformat_minor": 2
}
